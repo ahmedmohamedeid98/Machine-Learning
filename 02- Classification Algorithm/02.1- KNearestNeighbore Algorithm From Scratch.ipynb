{
 "cells": [
  {
   "cell_type": "markdown",
   "metadata": {},
   "source": [
    "# Simple Explain for KNN Algorithm on Small Dataset"
   ]
  },
  {
   "cell_type": "markdown",
   "metadata": {},
   "source": [
    "<h3>KNN Algorithm</h3> <br>\n",
    "the idea of this algorithm is calculate the <b>distance</b> between the <b><i>tareget point</i></b> and each point <br>\n",
    "in the <b>dataset</b> then,<br>\n",
    "return the <b>Class</b> that have the <b>Common</b> shortest distance."
   ]
  },
  {
   "cell_type": "markdown",
   "metadata": {},
   "source": [
    "### Step1 : import libraries"
   ]
  },
  {
   "cell_type": "code",
   "execution_count": 2,
   "metadata": {},
   "outputs": [],
   "source": [
    "import numpy as np\n",
    "import matplotlib.pyplot as plt\n",
    "from matplotlib import style\n",
    "from math import sqrt\n",
    "import warnings\n",
    "from collections import Counter\n",
    "%matplotlib inline\n",
    "style.use(\"fivethirtyeight\")"
   ]
  },
  {
   "cell_type": "markdown",
   "metadata": {},
   "source": [
    "### Step2 : Preparing dataset"
   ]
  },
  {
   "cell_type": "code",
   "execution_count": 3,
   "metadata": {},
   "outputs": [],
   "source": [
    "dataset = {'k':[[1,2],[2,3],[3,1]], 'r':[[6,5],[7,7],[8,6]]}"
   ]
  },
  {
   "cell_type": "markdown",
   "metadata": {},
   "source": [
    "### Step3 : Write the Algorithm"
   ]
  },
  {
   "cell_type": "code",
   "execution_count": 7,
   "metadata": {},
   "outputs": [
    {
     "data": {
      "image/png": "[encoded data removed]",
      "text/plain": [
       "<Figure size 432x288 with 1 Axes>"
      ]
     },
     "metadata": {
      "needs_background": "light"
     },
     "output_type": "display_data"
    },
    {
     "name": "stdout",
     "output_type": "stream",
     "text": [
      "this sample belong to class: r\n"
     ]
    }
   ],
   "source": [
    "def K_nearest_neighbor(data, predict, k=3):\n",
    "    # Warning if k less than then number of classes\n",
    "    # k is the number of samples used to compare with the new feature\n",
    "    if len(data) >= k:\n",
    "        warnings.warn('k is set a value less than voting groups!')\n",
    "    distances = []\n",
    "    for group in data:\n",
    "        for feature in data[group]:\n",
    "            # linalg : Core Linear Algebra Tools\n",
    "            # norm   : Vector or matrix norm\n",
    "            euclidean_distanec = np.linalg.norm(np.array(feature)-np.array(predict))\n",
    "            distances.append([euclidean_distanec, group])\n",
    "        \n",
    "    vote = [i[1] for i in sorted(distances)[:k]]\n",
    "    #for i in sorted(distances)[:k]:\n",
    "    #    print(\"i: {}\".format(i))\n",
    "    # output:\n",
    "    # i: [1.0, 'r']\n",
    "    # i: [2.0, 'r']\n",
    "    # i: [2.23606797749979, 'r']\n",
    "    # i[1] mean class 'r' or 'k'\n",
    "    # then vote = ['r','r','r']\n",
    "\n",
    "    vote_result = Counter(vote).most_common(1)[0][0]\n",
    "    # Counter(vote): [('r', 3)]\n",
    "    # Counter(vote).most_common(1) : [('r',3)]\n",
    "    # Counter(vote).most_common(1)[0] : ('r',3)\n",
    "    # Counter(vote).most_common(1)[0][0] : 'r'\n",
    "\n",
    "    return vote_result\n",
    "\n",
    "# create new feature to test the algorithm\n",
    "new_feature = [6,7]\n",
    "\n",
    "# ploting dataset and the new_feature\n",
    "[[plt.scatter(ii[0],ii[1] ,s=50 , color=i) for ii in dataset[i]] for i in dataset]\n",
    "plt.scatter(new_feature[0],new_feature[1],s=200 , color ='g',marker='*')\n",
    "plt.show()\n",
    "\n",
    "\n",
    "# test\n",
    "k = K_nearest_neighbor(dataset, new_feature , k=3)\n",
    "print(\"this sample belong to class: {}\".format(k))"
   ]
  },
  {
   "cell_type": "markdown",
   "metadata": {},
   "source": [
    "  "
   ]
  }
 ],
 "metadata": {
  "kernelspec": {
   "display_name": "Python 3",
   "language": "python",
   "name": "python3"
  },
  "language_info": {
   "codemirror_mode": {
    "name": "ipython",
    "version": 3
   },
   "file_extension": ".py",
   "mimetype": "text/x-python",
   "name": "python",
   "nbconvert_exporter": "python",
   "pygments_lexer": "ipython3",
   "version": "3.7.2"
  }
 },
 "nbformat": 4,
 "nbformat_minor": 2
}
