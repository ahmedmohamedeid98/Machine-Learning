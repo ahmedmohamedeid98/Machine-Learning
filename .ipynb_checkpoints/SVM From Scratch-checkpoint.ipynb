{
 "cells": [
  {
   "cell_type": "code",
   "execution_count": 24,
   "metadata": {},
   "outputs": [
    {
     "name": "stdout",
     "output_type": "stream",
     "text": [
      "Optimized a step.\n",
      "Optimized a step.\n",
      "Optimized a step.\n",
      "Optimized a step.\n",
      "opt_dict 1170\n"
     ]
    },
    {
     "data": {
      "image/png": "[encoded data removed]",
      "text/plain": [
       "<matplotlib.figure.Figure at 0x19b90b26128>"
      ]
     },
     "metadata": {},
     "output_type": "display_data"
    }
   ],
   "source": [
    "import matplotlib.pyplot as plt\n",
    "from matplotlib import style\n",
    "import numpy as np\n",
    "style.use('ggplot')\n",
    "\n",
    "class Support_Vector_Machine:\n",
    "    def __init__(self, visualization=True):\n",
    "        self.visualization = visualization\n",
    "        self.color = {1:'r' , -1:'b'}\n",
    "        if self.visualization:\n",
    "            self.fig = plt.figure()\n",
    "            self.ax = self.fig.add_subplot(1,1,1)\n",
    "    def fit(self, data):\n",
    "        self.data = data\n",
    "        \n",
    "        self.transform = [[1,1],[-1,1],[-1,-1],[1,-1]]\n",
    "        all_data = []\n",
    "        for yi in data:\n",
    "            for featureSet in data[yi]:\n",
    "                for feature in featureSet:\n",
    "                    all_data.append(feature)\n",
    "                    \n",
    "        self.max_feature_value = max(all_data)\n",
    "        self.min_feature_value = min(all_data)\n",
    "        all_data = None\n",
    "        \n",
    "        # we control in the accuracy of the svm algorithm from here \n",
    "        # every time we give very lower step the accuracy increase but it more more expensive \n",
    "        # if you try 0.001 it will give heigh accuarcy but more expensive\n",
    "        # the best way to do this by running your model in remote server as 'colab'\n",
    "        self.step_size = [self.max_feature_value * 0.3,\n",
    "                          self.max_feature_value * 0.2,\n",
    "                          self.max_feature_value * 0.1,\n",
    "                         self.max_feature_value * 0.01]\n",
    "        # extreamly expensive\n",
    "        b_range_multiple = 5\n",
    "        # we dont need to take small steps with b as we do w\n",
    "        b_multiple = 5\n",
    "        letest_optimum = self.max_feature_value*10\n",
    "        \n",
    "        opt_dict = {}\n",
    "        for step in self.step_size:\n",
    "            w = np.array([letest_optimum,letest_optimum])\n",
    "            optimize = False\n",
    "            while not optimize:\n",
    "                # for(-1*Max*b_r_m , Max*b_r_m , step*b_m)\n",
    "                for b in np.arange(-1*(self.max_feature_value*b_range_multiple),\n",
    "                                   self.max_feature_value*b_range_multiple, step*b_multiple ):\n",
    "                    for transformation in self.transform:\n",
    "                        w_t = w*transformation\n",
    "                        found_option = True\n",
    "    \n",
    "                        for i in self.data:\n",
    "                            yi = i \n",
    "                            for xi in data[i]:\n",
    "                                # yi(w*x + b) >= 1\n",
    "                                if not yi*(np.dot(w_t,xi)+b) >= 1:\n",
    "                                    found_option = False\n",
    "                                    break\n",
    "                            if not found_option:\n",
    "                                break\n",
    "                        if found_option:\n",
    "                                # {||w_t|| : [w_t,b]}\n",
    "                                opt_dict[np.linalg.norm(w_t)] = [w_t,b] # store optimum wheights\n",
    "                    \n",
    "                if w[0]  < 0:\n",
    "                    optimize = True\n",
    "                    print(\"Optimized a step.\")\n",
    "                else:\n",
    "                    w = w - step\n",
    "                    \n",
    "                    \n",
    "        norms = sorted([n for n in opt_dict])\n",
    "        print(\"opt_dict\",len(opt_dict))\n",
    "        opt_choice = opt_dict[norms[0]]\n",
    "        self.w = opt_choice[0]\n",
    "        self.b = opt_choice[1]\n",
    "        letest_optimum = opt_choice[0][0] + step*2\n",
    "        \n",
    "        \n",
    "                    \n",
    "                        \n",
    "            \n",
    "    \n",
    "    def predict(self, feature):\n",
    "#         sign( x.w+b )\n",
    "        classification = np.sign(np.dot(np.array(feature), self.w) + self.b)\n",
    "        \n",
    "        if classification != 0 and self.visualization:\n",
    "            self.ax.scatter(feature[0], feature[1], s=100, marker='*', color=self.color[classification] )\n",
    "        return classification\n",
    "    \n",
    "    def Visualize(self):\n",
    "        [[self.ax.scatter(x[0],x[1], color=self.color[i], s=100) for x in data_dict[i]] for i in data_dict]\n",
    "        \n",
    "        \n",
    "\n",
    "            # hyperplan = x.w +b\n",
    "            # v = x.w +b\n",
    "            # posv  = 1\n",
    "            # negv  = -1\n",
    "            # dec   = 0\n",
    "\n",
    "        def Hyperplan(x,w,b,v):\n",
    "            res = (-w[0]*x-b+v) / w[1]\n",
    "            return res\n",
    "        \n",
    "        datarange = (self.min_feature_value*0.9,self.max_feature_value*1.1)\n",
    "        hyp_x_min = datarange[0]\n",
    "        hyp_x_max = datarange[1]\n",
    "        \n",
    "        # (w.x+b) = 1\n",
    "        # postive support vector hyperplan\n",
    "        psv1 = Hyperplan(hyp_x_min ,self.w, self.b, 1)\n",
    "        psv2 = Hyperplan(hyp_x_max ,self.w, self.b, 1)\n",
    "        self.ax.plot([hyp_x_min , hyp_x_max],[psv1, psv2], 'k')\n",
    "\n",
    "#        (w.x+b) = -1\n",
    "#        negative support vector hyperplan\n",
    "        neg1 = Hyperplan(hyp_x_min ,self.w, self.b, -1)\n",
    "        neg2 = Hyperplan(hyp_x_max ,self.w, self.b, -1)\n",
    "        self.ax.plot([hyp_x_min , hyp_x_max],[neg1, neg2],'k')\n",
    "        \n",
    "        \n",
    "#        (w.x+b) = 0\n",
    "#        decision support vector hyperplan\n",
    "        dec1 = Hyperplan(hyp_x_min ,self.w, self.b, 0)\n",
    "        dec2 = Hyperplan(hyp_x_max ,self.w, self.b, 0)\n",
    "        self.ax.plot([hyp_x_min , hyp_x_max],[dec1, dec2],'r--')        \n",
    "\n",
    "\n",
    "\n",
    "\n",
    "\n",
    "\n",
    "data_dict = {-1:np.array([[1,7],[2,8],[3,8]]) \n",
    "             ,1:np.array([[5,1],[6,-1],[7,3]]) }\n",
    "\n",
    "\n",
    "svm = Support_Vector_Machine()\n",
    "\n",
    "svm.fit(data_dict)\n",
    "\n",
    "predict_us = [[1,1],\n",
    "              [5,8],\n",
    "              [8,2],\n",
    "              [6,9],\n",
    "              [-4,5],\n",
    "              [3,6],\n",
    "              [2,1]]\n",
    "for p in predict_us:\n",
    "    svm.predict(p)\n",
    "svm.Visualize()\n"
   ]
  },
  {
   "cell_type": "code",
   "execution_count": 15,
   "metadata": {},
   "outputs": [
    {
     "data": {
      "text/plain": [
       "-1.0"
      ]
     },
     "execution_count": 15,
     "metadata": {},
     "output_type": "execute_result"
    }
   ],
   "source": [
    "svm.predict([2,4])"
   ]
  },
  {
   "cell_type": "code",
   "execution_count": 16,
   "metadata": {},
   "outputs": [
    {
     "data": {
      "text/plain": [
       "1.0"
      ]
     },
     "execution_count": 16,
     "metadata": {},
     "output_type": "execute_result"
    }
   ],
   "source": [
    "svm.predict([5,2])"
   ]
  },
  {
   "cell_type": "code",
   "execution_count": null,
   "metadata": {},
   "outputs": [],
   "source": []
  }
 ],
 "metadata": {
  "kernelspec": {
   "display_name": "Python 3",
   "language": "python",
   "name": "python3"
  },
  "language_info": {
   "codemirror_mode": {
    "name": "ipython",
    "version": 3
   },
   "file_extension": ".py",
   "mimetype": "text/x-python",
   "name": "python",
   "nbconvert_exporter": "python",
   "pygments_lexer": "ipython3",
   "version": "3.6.4"
  }
 },
 "nbformat": 4,
 "nbformat_minor": 2
}
