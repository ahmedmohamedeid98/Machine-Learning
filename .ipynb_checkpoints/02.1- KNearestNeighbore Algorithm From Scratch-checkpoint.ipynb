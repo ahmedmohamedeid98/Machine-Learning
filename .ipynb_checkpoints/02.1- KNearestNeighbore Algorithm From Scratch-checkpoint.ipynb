{
 "cells": [
  {
   "cell_type": "code",
   "execution_count": 21,
   "metadata": {},
   "outputs": [],
   "source": [
    "import numpy as np\n",
    "import matplotlib.pyplot as plt\n",
    "from matplotlib import style\n",
    "from math import sqrt\n",
    "import warnings\n",
    "from collections import Counter\n",
    "%matplotlib inline\n",
    "style.use(\"fivethirtyeight\")"
   ]
  },
  {
   "cell_type": "code",
   "execution_count": 48,
   "metadata": {},
   "outputs": [],
   "source": [
    "dataset = {'k':[[1,2],[2,3],[3,1]], 'r':[[6,5],[7,7],[8,6]]}"
   ]
  },
  {
   "cell_type": "code",
   "execution_count": 49,
   "metadata": {},
   "outputs": [
    {
     "data": {
      "image/png": "[encoded data removed]",
      "text/plain": [
       "<Figure size 432x288 with 1 Axes>"
      ]
     },
     "metadata": {},
     "output_type": "display_data"
    },
    {
     "name": "stdout",
     "output_type": "stream",
     "text": [
      "k\n"
     ]
    }
   ],
   "source": [
    "new_feature = [6,7]\n",
    "def K_nearest_neighbor(data, predict, k=3):\n",
    "    if len(data) >= k:\n",
    "        warnings.warn('k is set a value less than voting groups!')\n",
    "    distances = []\n",
    "    for group in data:\n",
    "        for feature in data[group]:\n",
    "            # linalg : Core Linear Algebra Tools\n",
    "            # norm   : Vector or matrix norm\n",
    "            euclidean_distanec = np.linalg.norm(np.array(feature)-np.array(predict))\n",
    "            distances.append([euclidean_distanec, group])\n",
    "    vote = [i[1] for i in sorted(distances)[:k]]\n",
    "    vote_result = Counter(vote).most_common(1)[0][0]\n",
    "    return vote_result\n",
    "[[plt.scatter(ii[0],ii[1] ,s=50 , color=i) for ii in dataset[i]] for i in dataset]\n",
    "plt.scatter(new_feature[0],new_feature[1],s=50 , color ='g')\n",
    "plt.show()\n",
    "k = K_nearest_neighbor(dataset, new_feature , k=3)\n",
    "print(k)"
   ]
  },
  {
   "cell_type": "code",
   "execution_count": 50,
   "metadata": {},
   "outputs": [],
   "source": [
    "import random\n",
    "random.shuffle?"
   ]
  },
  {
   "cell_type": "code",
   "execution_count": 29,
   "metadata": {},
   "outputs": [],
   "source": [
    "Counter.most_common?"
   ]
  },
  {
   "cell_type": "code",
   "execution_count": null,
   "metadata": {},
   "outputs": [],
   "source": []
  }
 ],
 "metadata": {
  "kernelspec": {
   "display_name": "Python 3",
   "language": "python",
   "name": "python3"
  },
  "language_info": {
   "codemirror_mode": {
    "name": "ipython",
    "version": 3
   },
   "file_extension": ".py",
   "mimetype": "text/x-python",
   "name": "python",
   "nbconvert_exporter": "python",
   "pygments_lexer": "ipython3",
   "version": "3.6.6"
  }
 },
 "nbformat": 4,
 "nbformat_minor": 2
}
