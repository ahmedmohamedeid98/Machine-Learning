{
 "cells": [
  {
   "cell_type": "markdown",
   "metadata": {},
   "source": [
    "#  Compare between our Algorithm and sklearn..."
   ]
  },
  {
   "cell_type": "code",
   "execution_count": 16,
   "metadata": {},
   "outputs": [],
   "source": [
    "import numpy as np\n",
    "import pandas as pd\n",
    "import warnings\n",
    "import random\n",
    "from collections import Counter"
   ]
  },
  {
   "cell_type": "code",
   "execution_count": 17,
   "metadata": {},
   "outputs": [],
   "source": [
    "# KNN Algorithm\n",
    "def K_nearest_neighbor(data, predict, k=3):\n",
    "    if len(data) >= k:\n",
    "        warnings.warn('k is set a value less than voting groups!')\n",
    "    distances = []\n",
    "    for group in data:\n",
    "        for feature in data[group]:\n",
    "            # linalg : Core Linear Algebra Tools\n",
    "            # norm   : Vector or matrix norm\n",
    "            euclidean_distanec = np.linalg.norm(np.array(feature)-np.array(predict))\n",
    "            distances.append([euclidean_distanec, group])\n",
    "    vote = [i[1] for i in sorted(distances)[:k]]\n",
    "    vote_result = Counter(vote).most_common(1)[0][0]\n",
    "    return vote_result"
   ]
  },
  {
   "cell_type": "code",
   "execution_count": 37,
   "metadata": {},
   "outputs": [],
   "source": [
    "# get and prepare data\n",
    "df = pd.read_csv(\"dataset/breast-cancer-wisconsin.data.txt\")\n",
    "df.drop(['id'], 1, inplace= True)\n",
    "df.replace(\"?\", -9999, inplace=True)\n",
    "\n",
    "full_data = df.astype(float).values.tolist()\n",
    "random.shuffle(full_data)\n",
    "\n",
    "# tarin_test_split without using an built in func\n",
    "test_size = 0.02\n",
    "train_set = {2:[],4:[]}\n",
    "test_set = {2:[],4:[]}\n",
    "\n",
    "train_data = full_data[:-int(len(full_data)*test_size)]\n",
    "test_data = full_data[-int(len(full_data)*test_size):]\n",
    "\n",
    "for i in test_data:\n",
    "    test_set[i[-1]] = i[:-1]\n",
    "for i in train_data:\n",
    "    train_set[i[-1]] = i[:-1]\n",
    "\n",
    "correct = 0\n",
    "total = 0"
   ]
  },
  {
   "cell_type": "code",
   "execution_count": 38,
   "metadata": {},
   "outputs": [
    {
     "name": "stdout",
     "output_type": "stream",
     "text": [
      "Accuracy :  0.9444444444444444\n"
     ]
    }
   ],
   "source": [
    "for Class in test_set:\n",
    "    for feature in test_set[Class]:\n",
    "        vote = K_nearest_neighbor(train_set, feature)# K = number of classes\n",
    "        if vote == Class:\n",
    "            correct+=1\n",
    "        total +=1\n",
    "\n",
    "        \n",
    "accuracy = (correct/total)\n",
    "print(\"Accuracy : \",accuracy)"
   ]
  },
  {
   "cell_type": "code",
   "execution_count": null,
   "metadata": {},
   "outputs": [],
   "source": []
  },
  {
   "cell_type": "code",
   "execution_count": null,
   "metadata": {},
   "outputs": [],
   "source": []
  },
  {
   "cell_type": "code",
   "execution_count": null,
   "metadata": {},
   "outputs": [],
   "source": []
  },
  {
   "cell_type": "code",
   "execution_count": null,
   "metadata": {},
   "outputs": [],
   "source": []
  }
 ],
 "metadata": {
  "kernelspec": {
   "display_name": "Python 3",
   "language": "python",
   "name": "python3"
  },
  "language_info": {
   "codemirror_mode": {
    "name": "ipython",
    "version": 3
   },
   "file_extension": ".py",
   "mimetype": "text/x-python",
   "name": "python",
   "nbconvert_exporter": "python",
   "pygments_lexer": "ipython3",
   "version": "3.6.6"
  }
 },
 "nbformat": 4,
 "nbformat_minor": 2
}
