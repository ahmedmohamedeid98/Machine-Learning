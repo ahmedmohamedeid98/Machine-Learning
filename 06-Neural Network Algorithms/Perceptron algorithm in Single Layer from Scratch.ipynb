{
 "cells": [
  {
   "cell_type": "code",
   "execution_count": 1,
   "metadata": {},
   "outputs": [],
   "source": [
    "# import libraries\n",
    "import numpy as np\n",
    "import matplotlib.pyplot as plt"
   ]
  },
  {
   "cell_type": "code",
   "execution_count": 85,
   "metadata": {},
   "outputs": [
    {
     "name": "stdout",
     "output_type": "stream",
     "text": [
      "w = [-9.  7.], b = 8\n"
     ]
    },
    {
     "data": {
      "image/png": "[encoded data removed]",
      "text/plain": [
       "<Figure size 432x288 with 1 Axes>"
      ]
     },
     "metadata": {
      "needs_background": "light"
     },
     "output_type": "display_data"
    }
   ],
   "source": [
    "# create our dataset\n",
    "data = {1:np.array([[1,2],[0.5,1],[3,4]]),0:np.array([[5,5],[4,3],[6,2]])}\n",
    "\n",
    "def init_weight_bais():\n",
    "    w = np.array([1,1])\n",
    "    b = 0\n",
    "    return (w,b)\n",
    "\n",
    "def hardlim(w,p,b):\n",
    "    # a = hardlim(n) = hardlim(wp+b) , a=1 for n>=0, a=0 for n<0\n",
    "    a = np.dot(w,p) + b\n",
    "    if a >= 0:\n",
    "        return 1\n",
    "    else:\n",
    "        return 0\n",
    "\n",
    "def update_weight_bais(w,b,p,e):\n",
    "    w = w + e * p\n",
    "    b = b + e\n",
    "    return (w,b)\n",
    "def test(w,b):\n",
    "    for t in data:\n",
    "        for f in data[t]:\n",
    "            # a = hardlim(wp+b)\n",
    "            # p -> input, here is f\n",
    "            a = hardlim(w,f,b)\n",
    "            # e/error = target - output\n",
    "            e = t - a\n",
    "            # if one point not satisfyed, then return not optimized and update w,b\n",
    "            if e == 1 or e == -1:\n",
    "                return (False,e,f)\n",
    "    return (True,e,f)\n",
    "\n",
    "def train():\n",
    "    optimized = False\n",
    "    w,b = init_weight_bais()\n",
    "    sfip = 1000 # safer from infinity loop\n",
    "    # loop for find the optimized solution\n",
    "    while not optimized or not sfip :\n",
    "        sfip -= 1\n",
    "        # apply the choiced weight and bais for all the points of data\n",
    "        # if w,b not satisfy at least one point then must update w,b \n",
    "        optimized,e,p = test(w,b)\n",
    "        if not optimized:\n",
    "            w,b = update_weight_bais(w,b,p,e)\n",
    "    return (w,b)\n",
    "\n",
    "def get_max_min_feature():\n",
    "    all_data = []\n",
    "    for i in data:\n",
    "        for x in data[i]:\n",
    "            for j in x:\n",
    "                all_data.append(j)\n",
    "    return (max(all_data),min(all_data))\n",
    "\n",
    "def visualize():\n",
    "    # get Preceptron parameters\n",
    "    w,b = train()\n",
    "    print(\"w = {}, b = {}\".format(w,b))\n",
    "    # get the bounds of our data to plot decision boundry\n",
    "    max_feature ,min_feature = get_max_min_feature()\n",
    "    # color dictionary\n",
    "    color_dict = {1:'r',0:'g'}\n",
    "    # plot our data points\n",
    "    [[plt.scatter(x[0],x[1] , color=color_dict[i])for x in data[i]]for i in data]\n",
    "    # get min and max points that satisfy the decision bountry for plot it\n",
    "    p1,p2 = -(w[1]*max_feature+b)/w[0],-(w[0]*min_feature+b)/w[1]\n",
    "    # plot decsion boundry\n",
    "    plt.plot([min_feature,p1],[p2,max_feature],'y--')\n",
    "    \n",
    "    # test accuracy of our algorithm\n",
    "    examples = [[1,1],[5,2],[3,3],[7,7]]\n",
    "    for c in examples:\n",
    "        a = hardlim(w,c,b)\n",
    "        plt.scatter(c[0],c[1],color=color_dict[a],s=100,marker='*')\n",
    "    plt.show()\n",
    "    \n",
    "\n",
    "    \n",
    "if __name__ == '__main__':\n",
    "    visualize()"
   ]
  },
  {
   "cell_type": "code",
   "execution_count": null,
   "metadata": {},
   "outputs": [],
   "source": []
  }
 ],
 "metadata": {
  "kernelspec": {
   "display_name": "Python 3",
   "language": "python",
   "name": "python3"
  },
  "language_info": {
   "codemirror_mode": {
    "name": "ipython",
    "version": 3
   },
   "file_extension": ".py",
   "mimetype": "text/x-python",
   "name": "python",
   "nbconvert_exporter": "python",
   "pygments_lexer": "ipython3",
   "version": "3.7.2"
  }
 },
 "nbformat": 4,
 "nbformat_minor": 2
}
