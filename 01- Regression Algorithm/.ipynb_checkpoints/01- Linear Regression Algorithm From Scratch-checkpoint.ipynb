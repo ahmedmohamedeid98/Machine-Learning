{
 "cells": [
  {
   "cell_type": "code",
   "execution_count": 1,
   "metadata": {
    "slideshow": {
     "slide_type": "notes"
    }
   },
   "outputs": [
    {
     "data": {
      "image/png": "[encoded data removed]",
      "text/plain": [
       "<Figure size 432x288 with 1 Axes>"
      ]
     },
     "metadata": {},
     "output_type": "display_data"
    },
    {
     "name": "stdout",
     "output_type": "stream",
     "text": [
      "predict(  22 ) :  44.564582754468844\n",
      "m = 2.00027785495971 b = 0.5584699453552204\n"
     ]
    }
   ],
   "source": [
    "# import lib\n",
    "from statistics import mean\n",
    "import numpy as np\n",
    "import matplotlib.pyplot as plt\n",
    "from matplotlib import style\n",
    "import random\n",
    "%matplotlib inline\n",
    "style.use(\"fivethirtyeight\")\n",
    "\n",
    "# define x-axis ,y-axis\n",
    "# feature = np.array([1,2,3,4,5,6], dtype=np.float64)\n",
    "# label = np.array([5,4,6,5,6,7], dtype=np.float64)\n",
    "\n",
    "# create dataset\n",
    "def create_dataset(how_much, variance, step=2, correlation=False):\n",
    "    val = 1\n",
    "    ys = []\n",
    "    for _ in range(how_much):\n",
    "        y = val+random.randrange(-variance, variance)\n",
    "        ys.append(y)\n",
    "        if correlation and correlation == 'pos':\n",
    "            val += step\n",
    "        elif correlation and correlation == 'neg':\n",
    "            val -= step\n",
    "    xs = [i for i in range(len(ys))]\n",
    "    \n",
    "    return np.array(ys, dtype = np.float64) , np.array(xs, dtype = np.float64)\n",
    "\n",
    "# label, feature\n",
    "label , feature = create_dataset(60 ,10 , 2 , correlation='pos')\n",
    "\n",
    "\n",
    "# get m,b for best fit line\n",
    "def best_fit_slop_and_intercept(x , y):\n",
    "    m = ( \n",
    "        ( ( (mean(x)*mean(y)) ) - (mean(x*y)) )\n",
    "         /( ((mean(x)**2))-(mean(x*x)) )\n",
    "        )\n",
    "    b = mean(y) - m*mean(x)\n",
    "    return m, b\n",
    "\n",
    "m, b = best_fit_slop_and_intercept(feature , label)\n",
    "fit_line = [(m*x) + b for x in feature]\n",
    "\n",
    "# new feature to make test\n",
    "new_feature = 22\n",
    "# predicted label\n",
    "predict_y = m*new_feature + b\n",
    "\n",
    "plt.scatter(feature ,label)\n",
    "plt.plot(feature , fit_line , 'y')\n",
    "plt.scatter(new_feature , predict_y, color=\"g\" , s = 200,marker='*')\n",
    "plt.show()\n",
    "print(\"predict( \",new_feature,\") : \",predict_y)\n",
    "print(\"m = \"+str(m), \"b = \"+str(b))\n"
   ]
  },
  {
   "cell_type": "markdown",
   "metadata": {},
   "source": [
    "### Calculate the accuracy of this model"
   ]
  },
  {
   "cell_type": "code",
   "execution_count": 36,
   "metadata": {},
   "outputs": [
    {
     "name": "stdout",
     "output_type": "stream",
     "text": [
      "0.9194600788169407\n"
     ]
    }
   ],
   "source": [
    "# calculate the squer error (distance between ys_original and fit_line or\n",
    "# distance between ys_original and mean line)\n",
    "\n",
    "def Squered_error(y_original , fit_line):\n",
    "    return sum((fit_line - y_original)**2)\n",
    "\n",
    "# calculate the squer r \n",
    "def coeffiecient_of_determination(y_original, fit_line):\n",
    "    # calculate y_mean_line\n",
    "    y_mean_line = [mean(y_original) for y in y_original]\n",
    "    # y_mean_line = [5.5, 5.5, 5.5, 5.5, 5.5, 5.5] \n",
    "    \n",
    "    # calculate the squer error for best fit line\n",
    "    squer_error_best_fit_line = Squered_error(y_original, fit_line)\n",
    "    squer_error_y_mean_line = Squered_error(y_original , y_mean_line)\n",
    "    \n",
    "    return 1 - (squer_error_best_fit_line / squer_error_y_mean_line)\n",
    "\n",
    "squer_r = coeffiecient_of_determination(y_axis, fit_line)\n",
    "\n",
    "print(squer_r)"
   ]
  },
  {
   "cell_type": "code",
   "execution_count": null,
   "metadata": {},
   "outputs": [],
   "source": []
  }
 ],
 "metadata": {
  "kernelspec": {
   "display_name": "Python 3",
   "language": "python",
   "name": "python3"
  },
  "language_info": {
   "codemirror_mode": {
    "name": "ipython",
    "version": 3
   },
   "file_extension": ".py",
   "mimetype": "text/x-python",
   "name": "python",
   "nbconvert_exporter": "python",
   "pygments_lexer": "ipython3",
   "version": "3.6.7"
  }
 },
 "nbformat": 4,
 "nbformat_minor": 2
}
