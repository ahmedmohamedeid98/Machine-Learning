{
 "cells": [
  {
   "cell_type": "code",
   "execution_count": 54,
   "metadata": {},
   "outputs": [
    {
     "name": "stdout",
     "output_type": "stream",
     "text": [
      "Before Training\n"
     ]
    },
    {
     "data": {
      "image/png": "[encoded data removed]",
      "text/plain": [
       "<Figure size 432x288 with 1 Axes>"
      ]
     },
     "metadata": {},
     "output_type": "display_data"
    },
    {
     "name": "stdout",
     "output_type": "stream",
     "text": [
      "After Training\n"
     ]
    },
    {
     "data": {
      "image/png": "[encoded data removed]",
      "text/plain": [
       "<Figure size 432x288 with 1 Axes>"
      ]
     },
     "metadata": {},
     "output_type": "display_data"
    },
    {
     "name": "stdout",
     "output_type": "stream",
     "text": [
      "Testing\n"
     ]
    },
    {
     "data": {
      "image/png": "[encoded data removed]",
      "text/plain": [
       "<Figure size 432x288 with 1 Axes>"
      ]
     },
     "metadata": {},
     "output_type": "display_data"
    }
   ],
   "source": [
    "import matplotlib.pyplot as plt\n",
    "from matplotlib import style\n",
    "style.use(\"ggplot\")\n",
    "import numpy as np\n",
    "#\n",
    "# the idea of this algorithm is find the centeroid points that determine each cluster, then how to find?\n",
    "# first determine the number of cluster you want your data to classify to it (K).\n",
    "# give the centroid points initail value then calc the destance between each point in dataset and the nearest\n",
    "# center point, then make update be found the mean of each data for each center point.\n",
    "# do this even reach to fixed center point (optimization process)\n",
    "# \n",
    "\n",
    "class KMeans:\n",
    "\n",
    "    def __init__(self, k=2, tol=0.001, max_iter=300):\n",
    "        # k is the number of groups\n",
    "        self.k = k\n",
    "        self.tol = tol\n",
    "        self.max_iter = max_iter\n",
    "        self.colors=['g','b','r','y']\n",
    "        \n",
    "    def fit(self, data):\n",
    "        \n",
    "        self.centroids = {}\n",
    "        \n",
    "        # init centroids points\n",
    "        for i in range(self.k):\n",
    "            self.centroids[i] = data[i]\n",
    "            \n",
    "        # satart Optimization process\n",
    "        for i in range(self.max_iter):\n",
    "            self.classifications = {}\n",
    "            \n",
    "            # init each cluster with empty list\n",
    "            for i in range(self.k):\n",
    "                self.classifications[i] = []\n",
    "                \n",
    "            for feature in data:\n",
    "                distances = [np.linalg.norm(feature - self.centroids[i]) for i in self.centroids]\n",
    "                cluster = np.argmin(distances)\n",
    "                self.classifications[cluster].append(feature)\n",
    "                \n",
    "            prev_centroids = dict(self.centroids)\n",
    "            # update\n",
    "            for cluster in self.classifications:\n",
    "                self.centroids[cluster] = np.average(self.classifications[cluster], axis=0)\n",
    "                \n",
    "            optimized = True\n",
    "            for c in self.centroids:\n",
    "                origin_centroid = prev_centroids[c]\n",
    "                current_centroid = self.centroids[c]\n",
    "                \n",
    "            if np.sum((current_centroid - origin_centroid)/origin_centroid*100.0) > self.tol:\n",
    "                optimized = False\n",
    "            \n",
    "            if optimized:\n",
    "                break\n",
    "        \n",
    "        \n",
    "    \n",
    "    def predict(self, data):\n",
    "        distances = [np.linalg.norm(data - self.centroids[i]) for i in self.centroids]\n",
    "        cluster = np.argmin(distances)\n",
    "        return cluster\n",
    "    \n",
    "    \n",
    "    def visualization(self, data, centroids=None, unknown =None, test=False):\n",
    "        \n",
    "        if centroids == None and unknown == None:\n",
    "            # plot data before training\n",
    "            [plt.scatter(data[i][0], data[i][1], marker=\"o\",color=\"b\", s=100) for i in range(len(data))]\n",
    "            plt.show()\n",
    "            return\n",
    "        if test == False:\n",
    "                # plot data after training\n",
    "            [plt.scatter(self.centroids[x][0], self.centroids[x][1], marker=\"x\", color=\"k\", s=100) for x in self.centroids]\n",
    "                \n",
    "            [[plt.scatter(x[0],x[1],marker=\"o\",color=self.colors[i],s=100) for x in self.classifications[i] ] for i in self.classifications]\n",
    "            \n",
    "        if test:\n",
    "            [plt.scatter(self.centroids[x][0], self.centroids[x][1], marker=\"x\", color=\"k\", s=100) for x in self.centroids]\n",
    "                \n",
    "            [[plt.scatter(x[0],x[1],marker=\"o\",color=self.colors[i],s=100) for x in self.classifications[i] ] for i in self.classifications]\n",
    "            \n",
    "            [plt.scatter(x[0],x[1],marker=\"*\",color=self.colors[self.predict(x)], s=120) for x in unknown]\n",
    "           \n",
    "        plt.show()\n",
    "                \n",
    "\n",
    "            \n",
    "            \n",
    "            \n",
    "            \n",
    "if __name__ == '__main__':\n",
    "    \n",
    "    data = np.array([[1,2],\n",
    "                      [1.5,3],\n",
    "                      [5,8],\n",
    "                      [8,8],\n",
    "                      [1,0.6],\n",
    "                      [9,11],\n",
    "                      [3,3]])\n",
    "    \n",
    "    unknown_data = np.array([[3,5],[2,4],[3,1],[1,9],[4,7]])\n",
    "    \n",
    "    clf = KMeans()\n",
    "    clf.fit(data)\n",
    "    \n",
    "    # visualize before training \n",
    "    print(\"Before Training\")\n",
    "    clf.visualization(data)\n",
    "    # visualize after training\n",
    "    print(\"After Training\")\n",
    "    clf.visualization(data,clf.centroids,unknown_data)\n",
    "    # visualize after testing\n",
    "    print(\"Testing\")\n",
    "    clf.visualization(data,clf.centroids,unknown_data,True)\n",
    "        \n",
    "        \n",
    "        \n",
    "        "
   ]
  },
  {
   "cell_type": "code",
   "execution_count": null,
   "metadata": {},
   "outputs": [],
   "source": []
  }
 ],
 "metadata": {
  "kernelspec": {
   "display_name": "Python 3",
   "language": "python",
   "name": "python3"
  },
  "language_info": {
   "codemirror_mode": {
    "name": "ipython",
    "version": 3
   },
   "file_extension": ".py",
   "mimetype": "text/x-python",
   "name": "python",
   "nbconvert_exporter": "python",
   "pygments_lexer": "ipython3",
   "version": "3.7.3"
  }
 },
 "nbformat": 4,
 "nbformat_minor": 2
}
