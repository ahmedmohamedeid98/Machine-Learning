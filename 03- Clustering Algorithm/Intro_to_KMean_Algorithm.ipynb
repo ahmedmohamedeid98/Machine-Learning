{
 "cells": [
  {
   "cell_type": "code",
   "execution_count": 39,
   "metadata": {},
   "outputs": [
    {
     "data": {
      "image/png": "[encoded data removed]",
      "text/plain": [
       "<Figure size 432x288 with 1 Axes>"
      ]
     },
     "metadata": {},
     "output_type": "display_data"
    },
    {
     "data": {
      "image/png": "[encoded data removed]",
      "text/plain": [
       "<Figure size 432x288 with 1 Axes>"
      ]
     },
     "metadata": {},
     "output_type": "display_data"
    }
   ],
   "source": [
    "import matplotlib.pyplot as plt\n",
    "from matplotlib import style\n",
    "style.use(\"ggplot\")\n",
    "import numpy as np\n",
    "from sklearn.cluster import KMeans\n",
    "\n",
    "class ApplyKMeans:\n",
    "\n",
    "    def __init__(self):\n",
    "        self.data = np.array([[1,2],\n",
    "                      [1.5,3],\n",
    "                      [5,8],\n",
    "                      [8,8],\n",
    "                      [1,0.6],\n",
    "                      [9,11],\n",
    "                      [3,3]])\n",
    "        self.num_of_clusters = 2\n",
    "        self.label = np.array([0]*len(self.data))\n",
    "        self.centroide = np.array([[0,0]]*self.num_of_clusters)\n",
    "        self.colors = ['g.','r.','b.','o.','p.','k.']\n",
    "\n",
    "    def visualize(self, before_training = False):\n",
    "        if before_training:\n",
    "            plt.scatter(self.data[:,0],self.data[:,1],marker='*',color='b' , s=100)\n",
    "            plt.show()\n",
    "        else:\n",
    "            for i in range(len(self.data)):\n",
    "                plt.plot(self.data[i][0], self.data[i][1],self.colors[self.label[i]],marker='*', markersize=10)\n",
    "            plt.scatter(self.centroide[:,0], self.centroide[:,1], marker=\"x\",color='b' ,s=100, linewidths=5)\n",
    "        \n",
    "        \n",
    "        \n",
    "        \n",
    "    def train(self):\n",
    "        clf = KMeans(n_clusters = self.num_of_clusters)\n",
    "        clf.fit(self.data)\n",
    "        self.label = clf.labels_\n",
    "        self.centroide = clf.cluster_centers_\n",
    "        \n",
    "if __name__ == '__main__':\n",
    "    k = ApplyKMeans()\n",
    "    k.visualize(before_training = True)\n",
    "    k.train()\n",
    "    k.visualize()"
   ]
  }
 ],
 "metadata": {
  "kernelspec": {
   "display_name": "Python 3",
   "language": "python",
   "name": "python3"
  },
  "language_info": {
   "codemirror_mode": {
    "name": "ipython",
    "version": 3
   },
   "file_extension": ".py",
   "mimetype": "text/x-python",
   "name": "python",
   "nbconvert_exporter": "python",
   "pygments_lexer": "ipython3",
   "version": "3.7.3"
  }
 },
 "nbformat": 4,
 "nbformat_minor": 2
}
